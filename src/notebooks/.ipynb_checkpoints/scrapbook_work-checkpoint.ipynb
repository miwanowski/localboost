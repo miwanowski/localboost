{
 "metadata": {
  "name": ""
 },
 "nbformat": 3,
 "nbformat_minor": 0,
 "worksheets": [
  {
   "cells": [
    {
     "cell_type": "code",
     "collapsed": false,
     "input": [
      "import numpy as np\n",
      "import matplotlib.pyplot as plt\n",
      "%matplotlib inline\n",
      "from sklearn.tree import DecisionTreeClassifier\n",
      "from sklearn.ensemble import AdaBoostClassifier\n",
      "import sys\n",
      "sys.path.append('/home/akall/localboost/src/')"
     ],
     "language": "python",
     "metadata": {},
     "outputs": [],
     "prompt_number": 46
    },
    {
     "cell_type": "code",
     "collapsed": false,
     "input": [
      "from localboost import adaboost\n",
      "from localboost import localboost\n",
      "from localboost import utils"
     ],
     "language": "python",
     "metadata": {},
     "outputs": [],
     "prompt_number": 204
    },
    {
     "cell_type": "code",
     "collapsed": false,
     "input": [
      "adaboost = reload(adaboost)\n",
      "localboost = reload(localboost)\n",
      "utils = reload(utils)"
     ],
     "language": "python",
     "metadata": {},
     "outputs": [],
     "prompt_number": 214
    },
    {
     "cell_type": "code",
     "collapsed": false,
     "input": [
      "io = np.genfromtxt('../../datasets/ionosphere.data', delimiter=',')"
     ],
     "language": "python",
     "metadata": {},
     "outputs": [],
     "prompt_number": 5
    },
    {
     "cell_type": "code",
     "collapsed": false,
     "input": [
      "sonar = np.genfromtxt('../../datasets/sonar.data', delimiter=',')"
     ],
     "language": "python",
     "metadata": {},
     "outputs": [],
     "prompt_number": 8
    },
    {
     "cell_type": "code",
     "collapsed": false,
     "input": [
      "io_X = io[:,0:34]\n",
      "io_Y = io[:,34]\n",
      "\n",
      "it = [1, 2, 3, 5, 10, 15, 20, 30, 50, 80, 100, 150, 200, 300, 400, 500, 800]\n",
      "ref_trn, ref_tst = utils.crossValidatedBenchmark(adaboost.AdaBoostEnsemble, io_X, io_Y, 10, it)\n",
      "trn, tst = utils.crossValidatedBenchmark(localboost.LocalAdaBoostEnsemble, io_X, io_Y, 10, it,\\\n",
      "                                         ensemble_args={'gamma': 0.25,\\\n",
      "                                                        'accuracy_model_type': 'logreg',\\\n",
      "                                                        'accuracy_model_usage': 'linear'})\n",
      "\n",
      "plt.figure(figsize=(12,6))\n",
      "p1 = plt.subplot(121)\n",
      "p1.plot(it, ref_trn)\n",
      "p1.plot(it, ref_tst)\n",
      "p2 = plt.subplot(122)\n",
      "p2.set_ylim(p1.get_ylim())\n",
      "p2.plot(it, trn)\n",
      "p2.plot(it, tst)"
     ],
     "language": "python",
     "metadata": {},
     "outputs": [
      {
       "output_type": "stream",
       "stream": "stdout",
       "text": [
        "Starting #1 cross-validation fold..\n",
        "Starting #2 cross-validation fold.."
       ]
      },
      {
       "output_type": "stream",
       "stream": "stdout",
       "text": [
        "\n",
        "Starting #3 cross-validation fold.."
       ]
      },
      {
       "output_type": "stream",
       "stream": "stdout",
       "text": [
        "\n",
        "Starting #4 cross-validation fold.."
       ]
      },
      {
       "output_type": "stream",
       "stream": "stdout",
       "text": [
        "\n",
        "Starting #5 cross-validation fold.."
       ]
      },
      {
       "output_type": "stream",
       "stream": "stdout",
       "text": [
        "\n",
        "Starting #6 cross-validation fold.."
       ]
      },
      {
       "output_type": "stream",
       "stream": "stdout",
       "text": [
        "\n",
        "Starting #7 cross-validation fold.."
       ]
      },
      {
       "output_type": "stream",
       "stream": "stdout",
       "text": [
        "\n",
        "Starting #8 cross-validation fold.."
       ]
      },
      {
       "output_type": "stream",
       "stream": "stdout",
       "text": [
        "\n",
        "Starting #9 cross-validation fold.."
       ]
      },
      {
       "output_type": "stream",
       "stream": "stdout",
       "text": [
        "\n",
        "Starting #10 cross-validation fold.."
       ]
      },
      {
       "output_type": "stream",
       "stream": "stdout",
       "text": [
        "\n",
        "Starting #1 cross-validation fold.."
       ]
      },
      {
       "output_type": "stream",
       "stream": "stdout",
       "text": [
        "\n",
        "Starting #2 cross-validation fold.."
       ]
      },
      {
       "output_type": "stream",
       "stream": "stdout",
       "text": [
        "\n",
        "Starting #3 cross-validation fold.."
       ]
      },
      {
       "output_type": "stream",
       "stream": "stdout",
       "text": [
        "\n",
        "Starting #4 cross-validation fold.."
       ]
      },
      {
       "output_type": "stream",
       "stream": "stdout",
       "text": [
        "\n",
        "Starting #5 cross-validation fold.."
       ]
      },
      {
       "output_type": "stream",
       "stream": "stdout",
       "text": [
        "\n",
        "Starting #6 cross-validation fold.."
       ]
      },
      {
       "output_type": "stream",
       "stream": "stdout",
       "text": [
        "\n",
        "Starting #7 cross-validation fold.."
       ]
      },
      {
       "output_type": "stream",
       "stream": "stdout",
       "text": [
        "\n",
        "Starting #8 cross-validation fold.."
       ]
      },
      {
       "output_type": "stream",
       "stream": "stdout",
       "text": [
        "\n",
        "Starting #9 cross-validation fold.."
       ]
      },
      {
       "output_type": "stream",
       "stream": "stdout",
       "text": [
        "\n",
        "Starting #10 cross-validation fold.."
       ]
      },
      {
       "output_type": "stream",
       "stream": "stdout",
       "text": [
        "\n"
       ]
      },
      {
       "metadata": {},
       "output_type": "pyout",
       "prompt_number": 186,
       "text": [
        "[<matplotlib.lines.Line2D at 0x12f8750c>]"
       ]
      },
      {
       "metadata": {},
       "output_type": "display_data",
       "png": "[encoded data removed]",
       "text": [
        "<matplotlib.figure.Figure at 0x129b8b2c>"
       ]
      }
     ],
     "prompt_number": 186
    },
    {
     "cell_type": "code",
     "collapsed": false,
     "input": [
      "sonar_X = sonar[:,0:60]\n",
      "sonar_Y = sonar[:,60]\n",
      "\n",
      "it = [1, 2, 3, 5, 10, 15, 20, 30, 50, 80, 100, 150, 200, 300, 400, 500]\n",
      "ref_trn, ref_tst = utils.crossValidatedBenchmark(adaboost.AdaBoostEnsemble, sonar_X, sonar_Y, 10, it)\n",
      "trn, tst = utils.crossValidatedBenchmark(localboost.LocalAdaBoostEnsemble, sonar_X, sonar_Y, 10, it, ensemble_args={'gamma': 0.2})\n",
      "\n",
      "plt.figure(figsize=(12,6))\n",
      "p1 = plt.subplot(121)\n",
      "p1.plot(it, ref_trn)\n",
      "p1.plot(it, ref_tst)\n",
      "p2 = plt.subplot(122)\n",
      "p2.set_ylim(p1.get_ylim())\n",
      "p2.plot(it, trn)\n",
      "p2.plot(it, tst)"
     ],
     "language": "python",
     "metadata": {},
     "outputs": [
      {
       "output_type": "stream",
       "stream": "stdout",
       "text": [
        "Starting #1 cross-validation fold..\n",
        "Starting #2 cross-validation fold.."
       ]
      },
      {
       "output_type": "stream",
       "stream": "stdout",
       "text": [
        "\n",
        "Starting #3 cross-validation fold.."
       ]
      },
      {
       "output_type": "stream",
       "stream": "stdout",
       "text": [
        "\n",
        "Starting #4 cross-validation fold.."
       ]
      },
      {
       "output_type": "stream",
       "stream": "stdout",
       "text": [
        "\n",
        "Starting #5 cross-validation fold.."
       ]
      },
      {
       "output_type": "stream",
       "stream": "stdout",
       "text": [
        "\n",
        "Starting #6 cross-validation fold.."
       ]
      },
      {
       "output_type": "stream",
       "stream": "stdout",
       "text": [
        "\n",
        "Starting #7 cross-validation fold.."
       ]
      },
      {
       "output_type": "stream",
       "stream": "stdout",
       "text": [
        "\n",
        "Starting #8 cross-validation fold.."
       ]
      },
      {
       "output_type": "stream",
       "stream": "stdout",
       "text": [
        "\n",
        "Starting #9 cross-validation fold.."
       ]
      },
      {
       "output_type": "stream",
       "stream": "stdout",
       "text": [
        "\n",
        "Starting #10 cross-validation fold.."
       ]
      },
      {
       "output_type": "stream",
       "stream": "stdout",
       "text": [
        "\n",
        "Starting #1 cross-validation fold.."
       ]
      },
      {
       "output_type": "stream",
       "stream": "stdout",
       "text": [
        "\n",
        "Starting #2 cross-validation fold.."
       ]
      },
      {
       "output_type": "stream",
       "stream": "stdout",
       "text": [
        "\n",
        "Starting #3 cross-validation fold.."
       ]
      },
      {
       "output_type": "stream",
       "stream": "stdout",
       "text": [
        "\n",
        "Starting #4 cross-validation fold.."
       ]
      },
      {
       "output_type": "stream",
       "stream": "stdout",
       "text": [
        "\n",
        "Starting #5 cross-validation fold.."
       ]
      },
      {
       "output_type": "stream",
       "stream": "stdout",
       "text": [
        "\n",
        "Starting #6 cross-validation fold.."
       ]
      },
      {
       "output_type": "stream",
       "stream": "stdout",
       "text": [
        "\n",
        "Starting #7 cross-validation fold.."
       ]
      },
      {
       "output_type": "stream",
       "stream": "stdout",
       "text": [
        "\n",
        "Starting #8 cross-validation fold.."
       ]
      },
      {
       "output_type": "stream",
       "stream": "stdout",
       "text": [
        "\n",
        "Starting #9 cross-validation fold.."
       ]
      },
      {
       "output_type": "stream",
       "stream": "stdout",
       "text": [
        "\n",
        "Starting #10 cross-validation fold.."
       ]
      },
      {
       "output_type": "stream",
       "stream": "stdout",
       "text": [
        "\n"
       ]
      },
      {
       "metadata": {},
       "output_type": "pyout",
       "prompt_number": 162,
       "text": [
        "[<matplotlib.lines.Line2D at 0x129c3a2c>]"
       ]
      },
      {
       "metadata": {},
       "output_type": "display_data",
       "png": "[encoded data removed]",
       "text": [
        "<matplotlib.figure.Figure at 0xfdd4d8c>"
       ]
      }
     ],
     "prompt_number": 162
    },
    {
     "cell_type": "code",
     "collapsed": false,
     "input": [
      "spam = np.genfromtxt('../../datasets/spambase.data', delimiter=',')"
     ],
     "language": "python",
     "metadata": {},
     "outputs": [],
     "prompt_number": 13
    },
    {
     "cell_type": "code",
     "collapsed": false,
     "input": [
      "spam.shape"
     ],
     "language": "python",
     "metadata": {},
     "outputs": [
      {
       "metadata": {},
       "output_type": "pyout",
       "prompt_number": 58,
       "text": [
        "(4601, 58)"
       ]
      }
     ],
     "prompt_number": 58
    },
    {
     "cell_type": "code",
     "collapsed": false,
     "input": [
      "spam_X = spam[:,0:57]\n",
      "spam_Y = spam[:,57]\n",
      "\n",
      "it = [1, 2, 3, 5, 10, 15, 20, 30, 50, 80, 100, 150, 200]#, 300, 400, 500]\n",
      "ref_trn, ref_tst = utils.crossValidatedBenchmark(adaboost.AdaBoostEnsemble, spam_X, spam_Y, 10, it)\n",
      "trn, tst = utils.crossValidatedBenchmark(localboost.LocalAdaBoostEnsemble, spam_X, spam_Y, 10, it, ensemble_args={'gamma': 0.25})\n",
      "\n",
      "plt.figure(figsize=(12,6))\n",
      "p1 = plt.subplot(121)\n",
      "p1.plot(it, ref_trn)\n",
      "p1.plot(it, ref_tst)\n",
      "p2 = plt.subplot(122)\n",
      "p2.set_ylim(p1.get_ylim())\n",
      "p2.plot(it, trn)\n",
      "p2.plot(it, tst)"
     ],
     "language": "python",
     "metadata": {},
     "outputs": [
      {
       "output_type": "stream",
       "stream": "stdout",
       "text": [
        "Starting #1 cross-validation fold..\n",
        "Starting #2 cross-validation fold.."
       ]
      },
      {
       "output_type": "stream",
       "stream": "stdout",
       "text": [
        "\n",
        "Starting #3 cross-validation fold.."
       ]
      },
      {
       "output_type": "stream",
       "stream": "stdout",
       "text": [
        "\n",
        "Starting #4 cross-validation fold.."
       ]
      },
      {
       "output_type": "stream",
       "stream": "stdout",
       "text": [
        "\n",
        "Starting #5 cross-validation fold.."
       ]
      },
      {
       "output_type": "stream",
       "stream": "stdout",
       "text": [
        "\n",
        "Starting #6 cross-validation fold.."
       ]
      },
      {
       "output_type": "stream",
       "stream": "stdout",
       "text": [
        "\n",
        "Starting #7 cross-validation fold.."
       ]
      },
      {
       "output_type": "stream",
       "stream": "stdout",
       "text": [
        "\n",
        "Starting #8 cross-validation fold.."
       ]
      },
      {
       "output_type": "stream",
       "stream": "stdout",
       "text": [
        "\n",
        "Starting #9 cross-validation fold.."
       ]
      },
      {
       "output_type": "stream",
       "stream": "stdout",
       "text": [
        "\n",
        "Starting #10 cross-validation fold.."
       ]
      },
      {
       "output_type": "stream",
       "stream": "stdout",
       "text": [
        "\n",
        "Starting #1 cross-validation fold.."
       ]
      },
      {
       "output_type": "stream",
       "stream": "stdout",
       "text": [
        "\n",
        "Starting #2 cross-validation fold.."
       ]
      },
      {
       "output_type": "stream",
       "stream": "stdout",
       "text": [
        "\n",
        "Starting #3 cross-validation fold.."
       ]
      },
      {
       "output_type": "stream",
       "stream": "stdout",
       "text": [
        "\n",
        "Starting #4 cross-validation fold.."
       ]
      },
      {
       "output_type": "stream",
       "stream": "stdout",
       "text": [
        "\n",
        "Starting #5 cross-validation fold.."
       ]
      },
      {
       "output_type": "stream",
       "stream": "stdout",
       "text": [
        "\n",
        "Starting #6 cross-validation fold.."
       ]
      },
      {
       "output_type": "stream",
       "stream": "stdout",
       "text": [
        "\n",
        "Starting #7 cross-validation fold.."
       ]
      },
      {
       "output_type": "stream",
       "stream": "stdout",
       "text": [
        "\n",
        "Starting #8 cross-validation fold.."
       ]
      },
      {
       "output_type": "stream",
       "stream": "stdout",
       "text": [
        "\n",
        "Starting #9 cross-validation fold.."
       ]
      },
      {
       "output_type": "stream",
       "stream": "stdout",
       "text": [
        "\n",
        "Starting #10 cross-validation fold.."
       ]
      },
      {
       "output_type": "stream",
       "stream": "stdout",
       "text": [
        "\n"
       ]
      },
      {
       "metadata": {},
       "output_type": "pyout",
       "prompt_number": 143,
       "text": [
        "[<matplotlib.lines.Line2D at 0xf517ccc>]"
       ]
      },
      {
       "metadata": {},
       "output_type": "display_data",
       "png": "[encoded data removed]",
       "text": [
        "<matplotlib.figure.Figure at 0xec510ac>"
       ]
      }
     ],
     "prompt_number": 143
    },
    {
     "cell_type": "code",
     "collapsed": false,
     "input": [
      "tst"
     ],
     "language": "python",
     "metadata": {},
     "outputs": [
      {
       "metadata": {},
       "output_type": "pyout",
       "prompt_number": 102,
       "text": [
        "array([ 0.2157861 ,  0.21535084,  0.15317269,  0.11602565,  0.10188862,\n",
        "        0.08864048,  0.07669009,  0.07734273,  0.07908186])"
       ]
      }
     ],
     "prompt_number": 102
    },
    {
     "cell_type": "code",
     "collapsed": false,
     "input": [
      "spam_X = spam[:,0:57]\n",
      "spam_Y = spam[:,57]\n",
      "\n",
      "localada = adaboost.AdaBoostEnsemble(spam_X, spam_Y)\n",
      "localada.fit(100)"
     ],
     "language": "python",
     "metadata": {},
     "outputs": [],
     "prompt_number": 86
    },
    {
     "cell_type": "code",
     "collapsed": false,
     "input": [
      "1 - float(sum(localada.predict(spam_X) == spam_Y))/spam_X.shape[0]"
     ],
     "language": "python",
     "metadata": {},
     "outputs": [
      {
       "metadata": {},
       "output_type": "pyout",
       "prompt_number": 87,
       "text": [
        "0.0612910236905021"
       ]
      }
     ],
     "prompt_number": 87
    },
    {
     "cell_type": "code",
     "collapsed": false,
     "input": [
      "ada = AdaBoostClassifier(n_estimators=100)\n",
      "ada.fit(sonar_X, sonar_Y)"
     ],
     "language": "python",
     "metadata": {},
     "outputs": [
      {
       "metadata": {},
       "output_type": "pyout",
       "prompt_number": 91,
       "text": [
        "AdaBoostClassifier(algorithm='SAMME.R',\n",
        "          base_estimator=DecisionTreeClassifier(compute_importances=None, criterion='gini',\n",
        "            max_depth=1, max_features=None, min_density=None,\n",
        "            min_samples_leaf=1, min_samples_split=2, random_state=None,\n",
        "            splitter='best'),\n",
        "          learning_rate=1.0, n_estimators=100, random_state=None)"
       ]
      }
     ],
     "prompt_number": 91
    },
    {
     "cell_type": "code",
     "collapsed": false,
     "input": [
      "1 - float(sum(ada.predict(sonar_X) == sonar_Y))/spam_X.shape[0]"
     ],
     "language": "python",
     "metadata": {},
     "outputs": [
      {
       "metadata": {},
       "output_type": "pyout",
       "prompt_number": 92,
       "text": [
        "0.9547924364268637"
       ]
      }
     ],
     "prompt_number": 92
    },
    {
     "cell_type": "code",
     "collapsed": false,
     "input": [
      "from sklearn.svm import SVC"
     ],
     "language": "python",
     "metadata": {},
     "outputs": [],
     "prompt_number": 153
    },
    {
     "cell_type": "code",
     "collapsed": false,
     "input": [
      "svmr = SVC(probability=True)\n",
      "svmr.fit(io_X, io_Y)"
     ],
     "language": "python",
     "metadata": {},
     "outputs": [
      {
       "metadata": {},
       "output_type": "pyout",
       "prompt_number": 156,
       "text": [
        "SVC(C=1.0, cache_size=200, class_weight=None, coef0=0.0, degree=3, gamma=0.0,\n",
        "  kernel='rbf', max_iter=-1, probability=True, random_state=None,\n",
        "  shrinking=True, tol=0.001, verbose=False)"
       ]
      }
     ],
     "prompt_number": 156
    },
    {
     "cell_type": "code",
     "collapsed": false,
     "input": [
      "class MyObj(object):\n",
      "    def __init__(self):\n",
      "        self.a = 1\n",
      "        self.b = 2\n",
      "\n",
      "d = {'a': 11, 'c': 'tralala'}\n",
      "\n",
      "m = MyObj()"
     ],
     "language": "python",
     "metadata": {},
     "outputs": [],
     "prompt_number": 189
    },
    {
     "cell_type": "code",
     "collapsed": false,
     "input": [
      "ensemble_args={'gamma': 0.25, 'accuracy_model_type': 'logreg', 'accuracy_model_usage': 'linear'}"
     ],
     "language": "python",
     "metadata": {},
     "outputs": [],
     "prompt_number": 195
    },
    {
     "cell_type": "code",
     "collapsed": false,
     "input": [
      "it = [1, 2, 3, 5, 10, 15, 20, 30, 50, 80, 100, 150, 200]\n",
      "scenario = utils.BenchmarkScenario(adaboost.AdaBoostEnsemble,\\\n",
      "                                   localboost.LocalAdaBoostEnsemble, \\\n",
      "                                   io, \\\n",
      "                                   'ionosphere', \\\n",
      "                                   10, \\\n",
      "                                   it, \\\n",
      "                                   {'gamma': 0.25, 'accuracy_model_type': 'logreg', 'accuracy_model_usage': 'tanh'})\n",
      "scenario.run()"
     ],
     "language": "python",
     "metadata": {},
     "outputs": [
      {
       "output_type": "stream",
       "stream": "stdout",
       "text": [
        "Starting #1 cross-validation fold..\n",
        "Starting #2 cross-validation fold.."
       ]
      },
      {
       "output_type": "stream",
       "stream": "stdout",
       "text": [
        "\n",
        "Starting #3 cross-validation fold.."
       ]
      },
      {
       "output_type": "stream",
       "stream": "stdout",
       "text": [
        "\n",
        "Starting #4 cross-validation fold.."
       ]
      },
      {
       "output_type": "stream",
       "stream": "stdout",
       "text": [
        "\n",
        "Starting #5 cross-validation fold.."
       ]
      },
      {
       "output_type": "stream",
       "stream": "stdout",
       "text": [
        "\n",
        "Starting #6 cross-validation fold.."
       ]
      },
      {
       "output_type": "stream",
       "stream": "stdout",
       "text": [
        "\n",
        "Starting #7 cross-validation fold.."
       ]
      },
      {
       "output_type": "stream",
       "stream": "stdout",
       "text": [
        "\n",
        "Starting #8 cross-validation fold.."
       ]
      },
      {
       "output_type": "stream",
       "stream": "stdout",
       "text": [
        "\n",
        "Starting #9 cross-validation fold.."
       ]
      },
      {
       "output_type": "stream",
       "stream": "stdout",
       "text": [
        "\n",
        "Starting #10 cross-validation fold.."
       ]
      },
      {
       "output_type": "stream",
       "stream": "stdout",
       "text": [
        "\n",
        "Starting #1 cross-validation fold.."
       ]
      },
      {
       "output_type": "stream",
       "stream": "stdout",
       "text": [
        "\n",
        "Starting #2 cross-validation fold.."
       ]
      },
      {
       "output_type": "stream",
       "stream": "stdout",
       "text": [
        "\n",
        "Starting #3 cross-validation fold.."
       ]
      },
      {
       "output_type": "stream",
       "stream": "stdout",
       "text": [
        "\n",
        "Starting #4 cross-validation fold.."
       ]
      },
      {
       "output_type": "stream",
       "stream": "stdout",
       "text": [
        "\n",
        "Starting #5 cross-validation fold.."
       ]
      },
      {
       "output_type": "stream",
       "stream": "stdout",
       "text": [
        "\n",
        "Starting #6 cross-validation fold.."
       ]
      },
      {
       "output_type": "stream",
       "stream": "stdout",
       "text": [
        "\n",
        "Starting #7 cross-validation fold.."
       ]
      },
      {
       "output_type": "stream",
       "stream": "stdout",
       "text": [
        "\n",
        "Starting #8 cross-validation fold.."
       ]
      },
      {
       "output_type": "stream",
       "stream": "stdout",
       "text": [
        "\n",
        "Starting #9 cross-validation fold.."
       ]
      },
      {
       "output_type": "stream",
       "stream": "stdout",
       "text": [
        "\n",
        "Starting #10 cross-validation fold.."
       ]
      },
      {
       "output_type": "stream",
       "stream": "stdout",
       "text": [
        "\n"
       ]
      },
      {
       "metadata": {},
       "output_type": "display_data",
       "png": "[encoded data removed]",
       "text": [
        "<matplotlib.figure.Figure at 0x12fabccc>"
       ]
      }
     ],
     "prompt_number": 215
    },
    {
     "cell_type": "code",
     "collapsed": false,
     "input": [
      "it = [1, 2, 3, 5, 10, 15, 20, 30, 50, 80, 100, 150, 200, 300, 400, 500, 800]\n",
      "plt.figure(figsize=(12,6))\n",
      "p1 = plt.subplot(121)\n",
      "r_trn = p1.plot(it, ref_trn)\n",
      "r_tst = p1.plot(it, ref_tst)\n",
      "\n",
      "p2 = plt.subplot(122)\n",
      "p2.set_ylim(p1.get_ylim())\n",
      "p2.plot(it, trn)\n",
      "p2.plot(it, tst)"
     ],
     "language": "python",
     "metadata": {},
     "outputs": [
      {
       "metadata": {},
       "output_type": "pyout",
       "prompt_number": 230,
       "text": [
        "[<matplotlib.lines.Line2D at 0x11d95dcc>]"
       ]
      },
      {
       "metadata": {},
       "output_type": "display_data",
       "png": "[encoded data removed]",
       "text": [
        "<matplotlib.figure.Figure at 0x12c4a36c>"
       ]
      }
     ],
     "prompt_number": 230
    },
    {
     "cell_type": "code",
     "collapsed": false,
     "input": [
      "ref_tst.shape"
     ],
     "language": "python",
     "metadata": {},
     "outputs": [
      {
       "metadata": {},
       "output_type": "pyout",
       "prompt_number": 228,
       "text": [
        "(17,)"
       ]
      }
     ],
     "prompt_number": 228
    }
   ],
   "metadata": {}
  }
 ]
}