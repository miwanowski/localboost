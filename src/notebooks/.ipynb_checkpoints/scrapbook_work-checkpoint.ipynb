{
 "metadata": {
  "name": ""
 },
 "nbformat": 3,
 "nbformat_minor": 0,
 "worksheets": [
  {
   "cells": [
    {
     "cell_type": "code",
     "collapsed": false,
     "input": [
      "import numpy as np\n",
      "import matplotlib.pyplot as plt\n",
      "%matplotlib inline\n",
      "from sklearn.tree import DecisionTreeClassifier\n",
      "from sklearn.ensemble import AdaBoostClassifier\n",
      "import sys\n",
      "sys.path.append('/Users/miwanowski/localboost/src/')"
     ],
     "language": "python",
     "metadata": {},
     "outputs": [],
     "prompt_number": 2
    },
    {
     "cell_type": "code",
     "collapsed": false,
     "input": [
      "from localboost import adaboost\n",
      "from localboost import localboost\n",
      "from localboost import utils"
     ],
     "language": "python",
     "metadata": {},
     "outputs": [],
     "prompt_number": 3
    },
    {
     "cell_type": "code",
     "collapsed": false,
     "input": [
      "adaboost = reload(adaboost)\n",
      "localboost = reload(localboost)\n",
      "utils = reload(utils)"
     ],
     "language": "python",
     "metadata": {},
     "outputs": [],
     "prompt_number": 4
    },
    {
     "cell_type": "code",
     "collapsed": false,
     "input": [
      "io = np.genfromtxt('../../datasets/ionosphere.data', delimiter=',')"
     ],
     "language": "python",
     "metadata": {},
     "outputs": [],
     "prompt_number": 5
    },
    {
     "cell_type": "code",
     "collapsed": false,
     "input": [
      "sonar = np.genfromtxt('../../datasets/sonar.data', delimiter=',')"
     ],
     "language": "python",
     "metadata": {},
     "outputs": [],
     "prompt_number": 6
    },
    {
     "cell_type": "code",
     "collapsed": false,
     "input": [
      "io_X = io[:,0:34]\n",
      "io_Y = io[:,34]\n",
      "\n",
      "it = [1, 2, 3, 5, 10, 15, 20, 30, 50, 80, 100, 150, 200, 300, 400, 500, 800]\n",
      "ref_trn, ref_tst = utils.crossValidatedBenchmark(adaboost.AdaBoostEnsemble, io_X, io_Y, 10, it)\n",
      "trn, tst = utils.crossValidatedBenchmark(localboost.LocalAdaBoostEnsemble, io_X, io_Y, 10, it,\\\n",
      "                                         ensemble_args={'gamma': 0.25,\\\n",
      "                                                        'accuracy_model_type': 'logreg',\\\n",
      "                                                        'accuracy_model_usage': 'linear'})\n",
      "\n",
      "plt.figure(figsize=(12,6))\n",
      "p1 = plt.subplot(121)\n",
      "p1.plot(it, ref_trn)\n",
      "p1.plot(it, ref_tst)\n",
      "p2 = plt.subplot(122)\n",
      "p2.set_ylim(p1.get_ylim())\n",
      "p2.plot(it, trn)\n",
      "p2.plot(it, tst)"
     ],
     "language": "python",
     "metadata": {},
     "outputs": [
      {
       "output_type": "stream",
       "stream": "stdout",
       "text": [
        "Starting #1 cross-validation fold..\n",
        "Starting #2 cross-validation fold.."
       ]
      },
      {
       "output_type": "stream",
       "stream": "stdout",
       "text": [
        "\n",
        "Starting #3 cross-validation fold.."
       ]
      },
      {
       "output_type": "stream",
       "stream": "stdout",
       "text": [
        "\n",
        "Starting #4 cross-validation fold.."
       ]
      },
      {
       "output_type": "stream",
       "stream": "stdout",
       "text": [
        "\n",
        "Starting #5 cross-validation fold.."
       ]
      },
      {
       "output_type": "stream",
       "stream": "stdout",
       "text": [
        "\n",
        "Starting #6 cross-validation fold.."
       ]
      },
      {
       "output_type": "stream",
       "stream": "stdout",
       "text": [
        "\n",
        "Starting #7 cross-validation fold.."
       ]
      },
      {
       "output_type": "stream",
       "stream": "stdout",
       "text": [
        "\n",
        "Starting #8 cross-validation fold.."
       ]
      },
      {
       "output_type": "stream",
       "stream": "stdout",
       "text": [
        "\n",
        "Starting #9 cross-validation fold.."
       ]
      },
      {
       "output_type": "stream",
       "stream": "stdout",
       "text": [
        "\n",
        "Starting #10 cross-validation fold.."
       ]
      },
      {
       "output_type": "stream",
       "stream": "stdout",
       "text": [
        "\n",
        "Starting #1 cross-validation fold.."
       ]
      },
      {
       "output_type": "stream",
       "stream": "stdout",
       "text": [
        "\n",
        "Starting #2 cross-validation fold.."
       ]
      },
      {
       "output_type": "stream",
       "stream": "stdout",
       "text": [
        "\n",
        "Starting #3 cross-validation fold.."
       ]
      },
      {
       "output_type": "stream",
       "stream": "stdout",
       "text": [
        "\n",
        "Starting #4 cross-validation fold.."
       ]
      },
      {
       "output_type": "stream",
       "stream": "stdout",
       "text": [
        "\n",
        "Starting #5 cross-validation fold.."
       ]
      },
      {
       "output_type": "stream",
       "stream": "stdout",
       "text": [
        "\n",
        "Starting #6 cross-validation fold.."
       ]
      },
      {
       "output_type": "stream",
       "stream": "stdout",
       "text": [
        "\n",
        "Starting #7 cross-validation fold.."
       ]
      },
      {
       "output_type": "stream",
       "stream": "stdout",
       "text": [
        "\n",
        "Starting #8 cross-validation fold.."
       ]
      },
      {
       "output_type": "stream",
       "stream": "stdout",
       "text": [
        "\n",
        "Starting #9 cross-validation fold.."
       ]
      },
      {
       "output_type": "stream",
       "stream": "stdout",
       "text": [
        "\n",
        "Starting #10 cross-validation fold.."
       ]
      },
      {
       "output_type": "stream",
       "stream": "stdout",
       "text": [
        "\n"
       ]
      },
      {
       "metadata": {},
       "output_type": "pyout",
       "prompt_number": 186,
       "text": [
        "[<matplotlib.lines.Line2D at 0x12f8750c>]"
       ]
      },
      {
       "metadata": {},
       "output_type": "display_data",
       "png": "[encoded data removed]",
       "text": [
        "<matplotlib.figure.Figure at 0x129b8b2c>"
       ]
      }
     ],
     "prompt_number": 186
    },
    {
     "cell_type": "code",
     "collapsed": false,
     "input": [
      "sonar_X = sonar[:,0:60]\n",
      "sonar_Y = sonar[:,60]\n",
      "\n",
      "it = [1, 2, 3, 5, 10, 15, 20, 30, 50, 80, 100, 150, 200, 300, 400, 500]\n",
      "ref_trn, ref_tst = utils.crossValidatedBenchmark(adaboost.AdaBoostEnsemble, sonar_X, sonar_Y, 10, it)\n",
      "trn, tst = utils.crossValidatedBenchmark(localboost.LocalAdaBoostEnsemble, sonar_X, sonar_Y, 10, it, ensemble_args={'gamma': 0.2})\n",
      "\n",
      "plt.figure(figsize=(12,6))\n",
      "p1 = plt.subplot(121)\n",
      "p1.plot(it, ref_trn)\n",
      "p1.plot(it, ref_tst)\n",
      "p2 = plt.subplot(122)\n",
      "p2.set_ylim(p1.get_ylim())\n",
      "p2.plot(it, trn)\n",
      "p2.plot(it, tst)"
     ],
     "language": "python",
     "metadata": {},
     "outputs": [
      {
       "output_type": "stream",
       "stream": "stdout",
       "text": [
        "Starting #1 cross-validation fold..\n",
        "Starting #2 cross-validation fold.."
       ]
      },
      {
       "output_type": "stream",
       "stream": "stdout",
       "text": [
        "\n",
        "Starting #3 cross-validation fold.."
       ]
      },
      {
       "output_type": "stream",
       "stream": "stdout",
       "text": [
        "\n",
        "Starting #4 cross-validation fold.."
       ]
      },
      {
       "output_type": "stream",
       "stream": "stdout",
       "text": [
        "\n",
        "Starting #5 cross-validation fold.."
       ]
      },
      {
       "output_type": "stream",
       "stream": "stdout",
       "text": [
        "\n",
        "Starting #6 cross-validation fold.."
       ]
      },
      {
       "output_type": "stream",
       "stream": "stdout",
       "text": [
        "\n",
        "Starting #7 cross-validation fold.."
       ]
      },
      {
       "output_type": "stream",
       "stream": "stdout",
       "text": [
        "\n",
        "Starting #8 cross-validation fold.."
       ]
      },
      {
       "output_type": "stream",
       "stream": "stdout",
       "text": [
        "\n",
        "Starting #9 cross-validation fold.."
       ]
      },
      {
       "output_type": "stream",
       "stream": "stdout",
       "text": [
        "\n",
        "Starting #10 cross-validation fold.."
       ]
      },
      {
       "output_type": "stream",
       "stream": "stdout",
       "text": [
        "\n",
        "Starting #1 cross-validation fold.."
       ]
      },
      {
       "output_type": "stream",
       "stream": "stdout",
       "text": [
        "\n",
        "Starting #2 cross-validation fold.."
       ]
      },
      {
       "output_type": "stream",
       "stream": "stdout",
       "text": [
        "\n",
        "Starting #3 cross-validation fold.."
       ]
      },
      {
       "output_type": "stream",
       "stream": "stdout",
       "text": [
        "\n",
        "Starting #4 cross-validation fold.."
       ]
      },
      {
       "output_type": "stream",
       "stream": "stdout",
       "text": [
        "\n",
        "Starting #5 cross-validation fold.."
       ]
      },
      {
       "output_type": "stream",
       "stream": "stdout",
       "text": [
        "\n",
        "Starting #6 cross-validation fold.."
       ]
      },
      {
       "output_type": "stream",
       "stream": "stdout",
       "text": [
        "\n",
        "Starting #7 cross-validation fold.."
       ]
      },
      {
       "output_type": "stream",
       "stream": "stdout",
       "text": [
        "\n",
        "Starting #8 cross-validation fold.."
       ]
      },
      {
       "output_type": "stream",
       "stream": "stdout",
       "text": [
        "\n",
        "Starting #9 cross-validation fold.."
       ]
      },
      {
       "output_type": "stream",
       "stream": "stdout",
       "text": [
        "\n",
        "Starting #10 cross-validation fold.."
       ]
      },
      {
       "output_type": "stream",
       "stream": "stdout",
       "text": [
        "\n"
       ]
      },
      {
       "metadata": {},
       "output_type": "pyout",
       "prompt_number": 162,
       "text": [
        "[<matplotlib.lines.Line2D at 0x129c3a2c>]"
       ]
      },
      {
       "metadata": {},
       "output_type": "display_data",
       "png": "[encoded data removed]",
       "text": [
        "<matplotlib.figure.Figure at 0xfdd4d8c>"
       ]
      }
     ],
     "prompt_number": 162
    },
    {
     "cell_type": "code",
     "collapsed": false,
     "input": [
      "spam = np.genfromtxt('../../datasets/spambase.data', delimiter=',')"
     ],
     "language": "python",
     "metadata": {},
     "outputs": [],
     "prompt_number": 7
    },
    {
     "cell_type": "code",
     "collapsed": false,
     "input": [
      "spam.shape"
     ],
     "language": "python",
     "metadata": {},
     "outputs": [
      {
       "metadata": {},
       "output_type": "pyout",
       "prompt_number": 58,
       "text": [
        "(4601, 58)"
       ]
      }
     ],
     "prompt_number": 58
    },
    {
     "cell_type": "code",
     "collapsed": false,
     "input": [
      "spam_X = spam[:,0:57]\n",
      "spam_Y = spam[:,57]\n",
      "\n",
      "it = [1, 2, 3, 5, 10, 15, 20, 30, 50, 80, 100, 150, 200]#, 300, 400, 500]\n",
      "ref_trn, ref_tst = utils.crossValidatedBenchmark(adaboost.AdaBoostEnsemble, spam_X, spam_Y, 10, it)\n",
      "trn, tst = utils.crossValidatedBenchmark(localboost.LocalAdaBoostEnsemble, spam_X, spam_Y, 10, it, ensemble_args={'gamma': 0.25})\n",
      "\n",
      "plt.figure(figsize=(12,6))\n",
      "p1 = plt.subplot(121)\n",
      "p1.plot(it, ref_trn)\n",
      "p1.plot(it, ref_tst)\n",
      "p2 = plt.subplot(122)\n",
      "p2.set_ylim(p1.get_ylim())\n",
      "p2.plot(it, trn)\n",
      "p2.plot(it, tst)"
     ],
     "language": "python",
     "metadata": {},
     "outputs": [
      {
       "output_type": "stream",
       "stream": "stdout",
       "text": [
        "Starting #1 cross-validation fold..\n",
        "Starting #2 cross-validation fold.."
       ]
      },
      {
       "output_type": "stream",
       "stream": "stdout",
       "text": [
        "\n",
        "Starting #3 cross-validation fold.."
       ]
      },
      {
       "output_type": "stream",
       "stream": "stdout",
       "text": [
        "\n",
        "Starting #4 cross-validation fold.."
       ]
      },
      {
       "output_type": "stream",
       "stream": "stdout",
       "text": [
        "\n",
        "Starting #5 cross-validation fold.."
       ]
      },
      {
       "output_type": "stream",
       "stream": "stdout",
       "text": [
        "\n",
        "Starting #6 cross-validation fold.."
       ]
      },
      {
       "output_type": "stream",
       "stream": "stdout",
       "text": [
        "\n",
        "Starting #7 cross-validation fold.."
       ]
      },
      {
       "output_type": "stream",
       "stream": "stdout",
       "text": [
        "\n",
        "Starting #8 cross-validation fold.."
       ]
      },
      {
       "output_type": "stream",
       "stream": "stdout",
       "text": [
        "\n",
        "Starting #9 cross-validation fold.."
       ]
      },
      {
       "output_type": "stream",
       "stream": "stdout",
       "text": [
        "\n",
        "Starting #10 cross-validation fold.."
       ]
      },
      {
       "output_type": "stream",
       "stream": "stdout",
       "text": [
        "\n",
        "Starting #1 cross-validation fold.."
       ]
      },
      {
       "output_type": "stream",
       "stream": "stdout",
       "text": [
        "\n",
        "Starting #2 cross-validation fold.."
       ]
      },
      {
       "output_type": "stream",
       "stream": "stdout",
       "text": [
        "\n",
        "Starting #3 cross-validation fold.."
       ]
      },
      {
       "output_type": "stream",
       "stream": "stdout",
       "text": [
        "\n",
        "Starting #4 cross-validation fold.."
       ]
      },
      {
       "output_type": "stream",
       "stream": "stdout",
       "text": [
        "\n",
        "Starting #5 cross-validation fold.."
       ]
      },
      {
       "output_type": "stream",
       "stream": "stdout",
       "text": [
        "\n",
        "Starting #6 cross-validation fold.."
       ]
      },
      {
       "output_type": "stream",
       "stream": "stdout",
       "text": [
        "\n",
        "Starting #7 cross-validation fold.."
       ]
      },
      {
       "output_type": "stream",
       "stream": "stdout",
       "text": [
        "\n",
        "Starting #8 cross-validation fold.."
       ]
      },
      {
       "output_type": "stream",
       "stream": "stdout",
       "text": [
        "\n",
        "Starting #9 cross-validation fold.."
       ]
      },
      {
       "output_type": "stream",
       "stream": "stdout",
       "text": [
        "\n",
        "Starting #10 cross-validation fold.."
       ]
      },
      {
       "output_type": "stream",
       "stream": "stdout",
       "text": [
        "\n"
       ]
      },
      {
       "metadata": {},
       "output_type": "pyout",
       "prompt_number": 143,
       "text": [
        "[<matplotlib.lines.Line2D at 0xf517ccc>]"
       ]
      },
      {
       "metadata": {},
       "output_type": "display_data",
       "png": "[encoded data removed]",
       "text": [
        "<matplotlib.figure.Figure at 0xec510ac>"
       ]
      }
     ],
     "prompt_number": 143
    },
    {
     "cell_type": "code",
     "collapsed": false,
     "input": [
      "tst"
     ],
     "language": "python",
     "metadata": {},
     "outputs": [
      {
       "metadata": {},
       "output_type": "pyout",
       "prompt_number": 102,
       "text": [
        "array([ 0.2157861 ,  0.21535084,  0.15317269,  0.11602565,  0.10188862,\n",
        "        0.08864048,  0.07669009,  0.07734273,  0.07908186])"
       ]
      }
     ],
     "prompt_number": 102
    },
    {
     "cell_type": "code",
     "collapsed": false,
     "input": [
      "spam_X = spam[:,0:57]\n",
      "spam_Y = spam[:,57]\n",
      "\n",
      "localada = adaboost.AdaBoostEnsemble(spam_X, spam_Y)\n",
      "localada.fit(100)"
     ],
     "language": "python",
     "metadata": {},
     "outputs": [],
     "prompt_number": 86
    },
    {
     "cell_type": "code",
     "collapsed": false,
     "input": [
      "1 - float(sum(localada.predict(spam_X) == spam_Y))/spam_X.shape[0]"
     ],
     "language": "python",
     "metadata": {},
     "outputs": [
      {
       "metadata": {},
       "output_type": "pyout",
       "prompt_number": 87,
       "text": [
        "0.0612910236905021"
       ]
      }
     ],
     "prompt_number": 87
    },
    {
     "cell_type": "code",
     "collapsed": false,
     "input": [
      "ada = AdaBoostClassifier(n_estimators=100)\n",
      "ada.fit(sonar_X, sonar_Y)"
     ],
     "language": "python",
     "metadata": {},
     "outputs": [
      {
       "metadata": {},
       "output_type": "pyout",
       "prompt_number": 91,
       "text": [
        "AdaBoostClassifier(algorithm='SAMME.R',\n",
        "          base_estimator=DecisionTreeClassifier(compute_importances=None, criterion='gini',\n",
        "            max_depth=1, max_features=None, min_density=None,\n",
        "            min_samples_leaf=1, min_samples_split=2, random_state=None,\n",
        "            splitter='best'),\n",
        "          learning_rate=1.0, n_estimators=100, random_state=None)"
       ]
      }
     ],
     "prompt_number": 91
    },
    {
     "cell_type": "code",
     "collapsed": false,
     "input": [
      "1 - float(sum(ada.predict(sonar_X) == sonar_Y))/spam_X.shape[0]"
     ],
     "language": "python",
     "metadata": {},
     "outputs": [
      {
       "metadata": {},
       "output_type": "pyout",
       "prompt_number": 92,
       "text": [
        "0.9547924364268637"
       ]
      }
     ],
     "prompt_number": 92
    },
    {
     "cell_type": "code",
     "collapsed": false,
     "input": [
      "from sklearn.svm import SVC"
     ],
     "language": "python",
     "metadata": {},
     "outputs": [],
     "prompt_number": 153
    },
    {
     "cell_type": "code",
     "collapsed": false,
     "input": [
      "svmr = SVC(probability=True)\n",
      "svmr.fit(io_X, io_Y)"
     ],
     "language": "python",
     "metadata": {},
     "outputs": [
      {
       "metadata": {},
       "output_type": "pyout",
       "prompt_number": 156,
       "text": [
        "SVC(C=1.0, cache_size=200, class_weight=None, coef0=0.0, degree=3, gamma=0.0,\n",
        "  kernel='rbf', max_iter=-1, probability=True, random_state=None,\n",
        "  shrinking=True, tol=0.001, verbose=False)"
       ]
      }
     ],
     "prompt_number": 156
    },
    {
     "cell_type": "code",
     "collapsed": false,
     "input": [
      "class MyObj(object):\n",
      "    def __init__(self):\n",
      "        self.a = 1\n",
      "        self.b = 2\n",
      "\n",
      "d = {'a': 11, 'c': 'tralala'}\n",
      "\n",
      "m = MyObj()"
     ],
     "language": "python",
     "metadata": {},
     "outputs": [],
     "prompt_number": 189
    },
    {
     "cell_type": "code",
     "collapsed": false,
     "input": [
      "ensemble_args={'gamma': 0.25, 'accuracy_model_type': 'logreg', 'accuracy_model_usage': 'linear'}"
     ],
     "language": "python",
     "metadata": {},
     "outputs": [],
     "prompt_number": 195
    },
    {
     "cell_type": "code",
     "collapsed": false,
     "input": [
      "scenario = utils.BenchmarkScenario(adaboost.AdaBoostEnsemble,\\\n",
      "                                   localboost.LocalAdaBoostEnsemble, \\\n",
      "                                   io, \\\n",
      "                                   'ionosphere', \\\n",
      "                                   10, \\\n",
      "                                   [1, 2, 3, 5, 10, 15, 20, 30, 50, 80, 100, 150, 200], \\\n",
      "                                   {'gamma': 0.25, 'accuracy_model_type': 'logreg', 'accuracy_model_usage': 'tanh'})\n",
      "scenario.run()"
     ],
     "language": "python",
     "metadata": {},
     "outputs": [
      {
       "output_type": "stream",
       "stream": "stdout",
       "text": [
        "Starting #1 cross-validation fold..\n",
        "Starting #2 cross-validation fold.."
       ]
      },
      {
       "output_type": "stream",
       "stream": "stdout",
       "text": [
        "\n",
        "Starting #3 cross-validation fold.."
       ]
      },
      {
       "output_type": "stream",
       "stream": "stdout",
       "text": [
        "\n",
        "Starting #4 cross-validation fold.."
       ]
      },
      {
       "output_type": "stream",
       "stream": "stdout",
       "text": [
        "\n",
        "Starting #5 cross-validation fold.."
       ]
      },
      {
       "output_type": "stream",
       "stream": "stdout",
       "text": [
        "\n",
        "Starting #6 cross-validation fold.."
       ]
      },
      {
       "output_type": "stream",
       "stream": "stdout",
       "text": [
        "\n",
        "Starting #7 cross-validation fold.."
       ]
      },
      {
       "output_type": "stream",
       "stream": "stdout",
       "text": [
        "\n",
        "Starting #8 cross-validation fold.."
       ]
      },
      {
       "output_type": "stream",
       "stream": "stdout",
       "text": [
        "\n",
        "Starting #9 cross-validation fold.."
       ]
      },
      {
       "output_type": "stream",
       "stream": "stdout",
       "text": [
        "\n",
        "Starting #10 cross-validation fold.."
       ]
      },
      {
       "output_type": "stream",
       "stream": "stdout",
       "text": [
        "\n",
        "Starting #1 cross-validation fold.."
       ]
      },
      {
       "output_type": "stream",
       "stream": "stdout",
       "text": [
        "\n",
        "Starting #2 cross-validation fold.."
       ]
      },
      {
       "output_type": "stream",
       "stream": "stdout",
       "text": [
        "\n",
        "Starting #3 cross-validation fold.."
       ]
      },
      {
       "output_type": "stream",
       "stream": "stdout",
       "text": [
        "\n",
        "Starting #4 cross-validation fold.."
       ]
      },
      {
       "output_type": "stream",
       "stream": "stdout",
       "text": [
        "\n",
        "Starting #5 cross-validation fold.."
       ]
      },
      {
       "output_type": "stream",
       "stream": "stdout",
       "text": [
        "\n",
        "Starting #6 cross-validation fold.."
       ]
      },
      {
       "output_type": "stream",
       "stream": "stdout",
       "text": [
        "\n",
        "Starting #7 cross-validation fold.."
       ]
      },
      {
       "output_type": "stream",
       "stream": "stdout",
       "text": [
        "\n",
        "Starting #8 cross-validation fold.."
       ]
      },
      {
       "output_type": "stream",
       "stream": "stdout",
       "text": [
        "\n",
        "Starting #9 cross-validation fold.."
       ]
      },
      {
       "output_type": "stream",
       "stream": "stdout",
       "text": [
        "\n",
        "Starting #10 cross-validation fold.."
       ]
      },
      {
       "output_type": "stream",
       "stream": "stdout",
       "text": [
        "\n"
       ]
      },
      {
       "metadata": {},
       "output_type": "display_data",
       "png": "[encoded data removed]",
       "text": [
        "<matplotlib.figure.Figure at 0x11f52aac>"
       ]
      }
     ],
     "prompt_number": 239
    },
    {
     "cell_type": "code",
     "collapsed": false,
     "input": [
      "scenario.last_ref_test_errors - scenario.last_test_errors"
     ],
     "language": "python",
     "metadata": {},
     "outputs": [
      {
       "ename": "NameError",
       "evalue": "name 'scenario' is not defined",
       "output_type": "pyerr",
       "traceback": [
        "\u001b[0;31m---------------------------------------------------------------------------\u001b[0m\n\u001b[0;31mNameError\u001b[0m                                 Traceback (most recent call last)",
        "\u001b[0;32m<ipython-input-1-39b5a3ea381c>\u001b[0m in \u001b[0;36m<module>\u001b[0;34m()\u001b[0m\n\u001b[0;32m----> 1\u001b[0;31m \u001b[0mscenario\u001b[0m\u001b[0;34m.\u001b[0m\u001b[0mlast_ref_test_errors\u001b[0m \u001b[0;34m-\u001b[0m \u001b[0mscenario\u001b[0m\u001b[0;34m.\u001b[0m\u001b[0mlast_test_errors\u001b[0m\u001b[0;34m\u001b[0m\u001b[0m\n\u001b[0m",
        "\u001b[0;31mNameError\u001b[0m: name 'scenario' is not defined"
       ]
      }
     ],
     "prompt_number": 1
    },
    {
     "cell_type": "code",
     "collapsed": false,
     "input": [
      "xs1 = np.random.normal(3, 0.5, 10)\n",
      "ys1 = np.random.normal(1, 0.5, 10)\n",
      "xs2 = np.random.normal(1, 0.5, 10)\n",
      "ys2 = np.random.normal(3, 0.5, 10)\n",
      "xs3 = np.random.normal(3, 0.5, 10)\n",
      "ys3 = np.random.normal(3, 0.5, 10)"
     ],
     "language": "python",
     "metadata": {},
     "outputs": [],
     "prompt_number": 41
    },
    {
     "cell_type": "code",
     "collapsed": false,
     "input": [
      "plt.plot(xs1, ys1, 'bo')\n",
      "plt.plot(xs2, ys2, 'ro')\n",
      "plt.plot(xs3, ys3, 'go')"
     ],
     "language": "python",
     "metadata": {},
     "outputs": [
      {
       "metadata": {},
       "output_type": "pyout",
       "prompt_number": 42,
       "text": [
        "[<matplotlib.lines.Line2D at 0x10985ec10>]"
       ]
      },
      {
       "metadata": {},
       "output_type": "display_data",
       "png": "[encoded data removed]",
       "text": [
        "<matplotlib.figure.Figure at 0x109679250>"
       ]
      }
     ],
     "prompt_number": 42
    },
    {
     "cell_type": "code",
     "collapsed": false,
     "input": [
      "plt.plot(xs1, ys1, 'gv')\n",
      "plt.plot(xs2, ys2, 'r^')\n",
      "plt.plot(xs3, ys3, 'gv')"
     ],
     "language": "python",
     "metadata": {},
     "outputs": [
      {
       "metadata": {},
       "output_type": "pyout",
       "prompt_number": 49,
       "text": [
        "[<matplotlib.lines.Line2D at 0x10b6c6790>]"
       ]
      },
      {
       "metadata": {},
       "output_type": "display_data",
       "png": "[encoded data removed]",
       "text": [
        "<matplotlib.figure.Figure at 0x10b494cd0>"
       ]
      }
     ],
     "prompt_number": 49
    },
    {
     "cell_type": "code",
     "collapsed": false,
     "input": [
      "plt.plot(xs1, ys1, 'r^')\n",
      "plt.plot(xs2, ys2, 'gv')\n",
      "plt.plot(xs3, ys3, 'gv')"
     ],
     "language": "python",
     "metadata": {},
     "outputs": [
      {
       "metadata": {},
       "output_type": "pyout",
       "prompt_number": 50,
       "text": [
        "[<matplotlib.lines.Line2D at 0x10c07dd90>]"
       ]
      },
      {
       "metadata": {},
       "output_type": "display_data",
       "png": "[encoded data removed]",
       "text": [
        "<matplotlib.figure.Figure at 0x10b6dad90>"
       ]
      }
     ],
     "prompt_number": 50
    },
    {
     "cell_type": "code",
     "collapsed": false,
     "input": [
      "plt.plot(xs1, ys1, 'gv')\n",
      "plt.plot(xs2, ys2, 'gv')\n",
      "plt.plot(xs3, ys3, 'r^')"
     ],
     "language": "python",
     "metadata": {},
     "outputs": [
      {
       "metadata": {},
       "output_type": "pyout",
       "prompt_number": 52,
       "text": [
        "[<matplotlib.lines.Line2D at 0x10c5119d0>]"
       ]
      },
      {
       "metadata": {},
       "output_type": "display_data",
       "png": "[encoded data removed]",
       "text": [
        "<matplotlib.figure.Figure at 0x10c3879d0>"
       ]
      }
     ],
     "prompt_number": 52
    },
    {
     "cell_type": "code",
     "collapsed": false,
     "input": [
      "xs = np.array(range(1, 30), dtype=float)"
     ],
     "language": "python",
     "metadata": {},
     "outputs": [],
     "prompt_number": 62
    },
    {
     "cell_type": "code",
     "collapsed": false,
     "input": [
      "xs"
     ],
     "language": "python",
     "metadata": {},
     "outputs": [
      {
       "metadata": {},
       "output_type": "pyout",
       "prompt_number": 63,
       "text": [
        "array([  1.,   2.,   3.,   4.,   5.,   6.,   7.,   8.,   9.,  10.,  11.,\n",
        "        12.,  13.,  14.,  15.,  16.,  17.,  18.,  19.,  20.,  21.,  22.,\n",
        "        23.,  24.,  25.,  26.,  27.,  28.,  29.])"
       ]
      }
     ],
     "prompt_number": 63
    },
    {
     "cell_type": "code",
     "collapsed": false,
     "input": [
      "ys = (xs-15)**2\n",
      "noise = np.random.normal(0, 20, 29)\n",
      "ys += noise"
     ],
     "language": "python",
     "metadata": {},
     "outputs": [],
     "prompt_number": 70
    },
    {
     "cell_type": "code",
     "collapsed": false,
     "input": [
      "plt.ylim([-150, 300])\n",
      "plt.plot(xs, ys, 'ro')\n",
      "plt.plot(xs, r1.predict(np.vander(xs[:,0], 13)))"
     ],
     "language": "python",
     "metadata": {},
     "outputs": [
      {
       "metadata": {},
       "output_type": "pyout",
       "prompt_number": 115,
       "text": [
        "[<matplotlib.lines.Line2D at 0x10ef6ac10>]"
       ]
      },
      {
       "metadata": {},
       "output_type": "display_data",
       "png": "[encoded data removed]",
       "text": [
        "<matplotlib.figure.Figure at 0x10ebe8cd0>"
       ]
      }
     ],
     "prompt_number": 115
    },
    {
     "cell_type": "code",
     "collapsed": false,
     "input": [
      "xs = xs.reshape((29,1))"
     ],
     "language": "python",
     "metadata": {},
     "outputs": [],
     "prompt_number": 84
    },
    {
     "cell_type": "code",
     "collapsed": false,
     "input": [
      "from sklearn.linear_model import LinearRegression\n",
      "lm = LinearRegression()\n",
      "lm.fit(xs, ys)"
     ],
     "language": "python",
     "metadata": {},
     "outputs": [
      {
       "metadata": {},
       "output_type": "pyout",
       "prompt_number": 85,
       "text": [
        "LinearRegression(copy_X=True, fit_intercept=True, normalize=False)"
       ]
      }
     ],
     "prompt_number": 85
    },
    {
     "cell_type": "code",
     "collapsed": false,
     "input": [
      "from sklearn.linear_model import Ridge\n",
      "r1 = LinearRegression()\n",
      "r1.fit(np.vander(xs[:,0], 13), ys)"
     ],
     "language": "python",
     "metadata": {},
     "outputs": [
      {
       "metadata": {},
       "output_type": "pyout",
       "prompt_number": 114,
       "text": [
        "LinearRegression(copy_X=True, fit_intercept=True, normalize=False)"
       ]
      }
     ],
     "prompt_number": 114
    },
    {
     "cell_type": "code",
     "collapsed": false,
     "input": [
      "from math import pi, sin\n",
      "pi"
     ],
     "language": "python",
     "metadata": {},
     "outputs": [
      {
       "metadata": {},
       "output_type": "pyout",
       "prompt_number": 119,
       "text": [
        "3.141592653589793"
       ]
      }
     ],
     "prompt_number": 119
    },
    {
     "cell_type": "code",
     "collapsed": false,
     "input": [
      "xs_pos = np.random.normal(3, 0.5, 20)\n",
      "ys_pos = np.random.normal(3, 0.5, 20)\n",
      "rho_neg = np.random.normal(2, 0.2, 30)\n",
      "phi_neg = np.random.uniform(0, 2*pi, 30)\n",
      "xs_neg = rho_neg * np.sin(phi_neg) + 3.0\n",
      "ys_neg = rho_neg * np.cos(phi_neg) + 3.0"
     ],
     "language": "python",
     "metadata": {},
     "outputs": [],
     "prompt_number": 132
    },
    {
     "cell_type": "code",
     "collapsed": false,
     "input": [
      "plt.ylim([0,6])\n",
      "plt.xlim([0,6])\n",
      "plt.plot(xs_pos, ys_pos, 'g^')\n",
      "\n",
      "\n",
      "plt.plot(xs_neg, ys_neg, 'rv')\n",
      "\n",
      "\n",
      "#plt.plot(xs_neg, ys_neg, 'r^')\n",
      "plt.plot([1.5, 2.5, 3.5, 4.4, 3, 1, 1.5],[3, 4.5, 4.9, 2, 1.5, 2, 3])"
     ],
     "language": "python",
     "metadata": {},
     "outputs": [
      {
       "metadata": {},
       "output_type": "pyout",
       "prompt_number": 176,
       "text": [
        "[<matplotlib.lines.Line2D at 0x112e95850>]"
       ]
      },
      {
       "metadata": {},
       "output_type": "display_data",
       "png": "[encoded data removed]",
       "text": [
        "<matplotlib.figure.Figure at 0x112ce8350>"
       ]
      }
     ],
     "prompt_number": 176
    },
    {
     "cell_type": "code",
     "collapsed": false,
     "input": [
      "plt.ylim([0,6])\n",
      "plt.xlim([0,6])\n",
      "plt.plot(xs_pos[ys_pos < -2*xs_pos + 10], ys_pos[ys_pos < -2*xs_pos + 10], 'g+', markersize=10)\n",
      "plt.plot(xs_pos[ys_pos > -2*xs_pos + 10], ys_pos[ys_pos > -2*xs_pos + 10], 'r_', markersize=10)\n",
      "\n",
      "plt.plot(xs_neg[ys_neg > -2*xs_neg + 10], ys_neg[ys_neg > -2*xs_neg + 10], 'g+', markersize=10)\n",
      "plt.plot(xs_neg[ys_neg < -2*xs_neg + 10], ys_neg[ys_neg < -2*xs_neg + 10], 'r_', markersize=10)\n",
      "\n",
      "\n",
      "#plt.plot(xs_neg, ys_neg, 'r^')\n",
      "plt.plot([5,2],[0,6])"
     ],
     "language": "python",
     "metadata": {},
     "outputs": [
      {
       "metadata": {},
       "output_type": "pyout",
       "prompt_number": 177,
       "text": [
        "[<matplotlib.lines.Line2D at 0x113031650>]"
       ]
      },
      {
       "metadata": {},
       "output_type": "display_data",
       "png": "[encoded data removed]",
       "text": [
        "<matplotlib.figure.Figure at 0x112e69d90>"
       ]
      }
     ],
     "prompt_number": 177
    },
    {
     "cell_type": "code",
     "collapsed": false,
     "input": [
      "plt.ylim([0,6])\n",
      "plt.xlim([0,6])\n",
      "\n",
      "plt.plot(xs_pos[ys_pos < -2*xs_pos + 10], ys_pos[ys_pos < -2*xs_pos + 10], 'g+', markersize=10)\n",
      "plt.plot(xs_pos[ys_pos > -2*xs_pos + 10], ys_pos[ys_pos > -2*xs_pos + 10], 'r_', markersize=10)\n",
      "\n",
      "plt.plot(xs_neg[ys_neg > -2*xs_neg + 10], ys_neg[ys_neg > -2*xs_neg + 10], 'g+', markersize=10)\n",
      "plt.plot(xs_neg[ys_neg < -2*xs_neg + 10], ys_neg[ys_neg < -2*xs_neg + 10], 'r_', markersize=10)\n"
     ],
     "language": "python",
     "metadata": {},
     "outputs": [
      {
       "metadata": {},
       "output_type": "pyout",
       "prompt_number": 193,
       "text": [
        "[<matplotlib.lines.Line2D at 0x1150c9c10>]"
       ]
      },
      {
       "metadata": {},
       "output_type": "display_data",
       "png": "[encoded data removed]",
       "text": [
        "<matplotlib.figure.Figure at 0x1146739d0>"
       ]
      }
     ],
     "prompt_number": 193
    },
    {
     "cell_type": "code",
     "collapsed": false,
     "input": [
      "logreg_x_pos = np.random.normal(2, 1, 10)\n",
      "logreg_x_neg = np.random.normal(8, 1, 10)\n",
      "plt.ylim([-0.1, 1.1])\n",
      "plt.plot(logreg_x_pos, [0.0] * logreg_x_pos.shape[0], 'or')\n",
      "plt.plot(logreg_x_neg, [1.0] * logreg_x_pos.shape[0], 'ob')\n",
      "v = np.linspace(0, 10.0, 100)\n",
      "\n",
      "plt.plot(v, np.exp(v-5)/(1+np.exp(v-5)))"
     ],
     "language": "python",
     "metadata": {},
     "outputs": [
      {
       "metadata": {},
       "output_type": "pyout",
       "prompt_number": 191,
       "text": [
        "[<matplotlib.lines.Line2D at 0x115005c90>]"
       ]
      },
      {
       "metadata": {},
       "output_type": "display_data",
       "png": "[encoded data removed]",
       "text": [
        "<matplotlib.figure.Figure at 0x114093e50>"
       ]
      }
     ],
     "prompt_number": 191
    }
   ],
   "metadata": {}
  }
 ]
}