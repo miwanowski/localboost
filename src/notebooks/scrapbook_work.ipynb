{
 "metadata": {
  "name": ""
 },
 "nbformat": 3,
 "nbformat_minor": 0,
 "worksheets": [
  {
   "cells": [
    {
     "cell_type": "code",
     "collapsed": false,
     "input": [
      "import numpy as np\n",
      "import matplotlib.pyplot as plt\n",
      "%matplotlib inline\n",
      "from sklearn.tree import DecisionTreeClassifier\n",
      "from sklearn.ensemble import AdaBoostClassifier\n",
      "import sys\n",
      "sys.path.append('/Users/miwanowski/localboost/src/')"
     ],
     "language": "python",
     "metadata": {},
     "outputs": [],
     "prompt_number": 187
    },
    {
     "cell_type": "code",
     "collapsed": false,
     "input": [
      "from localboost import adaboost\n",
      "from localboost import localboost\n",
      "from localboost import utils"
     ],
     "language": "python",
     "metadata": {},
     "outputs": [],
     "prompt_number": 237
    },
    {
     "cell_type": "code",
     "collapsed": false,
     "input": [
      "adaboost = reload(adaboost)\n",
      "localboost = reload(localboost)\n",
      "utils = reload(utils)"
     ],
     "language": "python",
     "metadata": {},
     "outputs": [],
     "prompt_number": 272
    },
    {
     "cell_type": "code",
     "collapsed": false,
     "input": [
      "io = np.genfromtxt('../../datasets/ionosphere.data', delimiter=',')"
     ],
     "language": "python",
     "metadata": {},
     "outputs": [],
     "prompt_number": 9
    },
    {
     "cell_type": "code",
     "collapsed": false,
     "input": [
      "io_train, io_test = utils.trainTestSplit(io, train_ratio=0.7)"
     ],
     "language": "python",
     "metadata": {},
     "outputs": [],
     "prompt_number": 107
    },
    {
     "cell_type": "code",
     "collapsed": false,
     "input": [
      "io_train_X = io_train[:,0:34]\n",
      "io_test_X = io_test[:,0:34]\n",
      "io_train_Y = io_train[:,34]\n",
      "io_test_Y = io_test[:,34]"
     ],
     "language": "python",
     "metadata": {},
     "outputs": [],
     "prompt_number": 126
    },
    {
     "cell_type": "code",
     "collapsed": false,
     "input": [
      "it = [1, 2, 3, 5, 10, 15, 20, 30, 50, 80, 100, 150, 200, 300, 400, 500]\n",
      "train_errors, test_errors = utils.benchmarkBoostedClassifier(localboost.LocalAdaBoostEnsemble, io_train_X, io_train_Y, io_test_X, io_test_Y, it)"
     ],
     "language": "python",
     "metadata": {},
     "outputs": [],
     "prompt_number": 273
    },
    {
     "cell_type": "code",
     "collapsed": false,
     "input": [
      "plt.plot(it, train_errors)\n",
      "plt.plot(it, test_errors)"
     ],
     "language": "python",
     "metadata": {},
     "outputs": [
      {
       "metadata": {},
       "output_type": "pyout",
       "prompt_number": 245,
       "text": [
        "[<matplotlib.lines.Line2D at 0x10e42afd0>]"
       ]
      },
      {
       "metadata": {},
       "output_type": "display_data",
       "png": "[encoded data removed]",
       "text": [
        "<matplotlib.figure.Figure at 0x10e42a810>"
       ]
      }
     ],
     "prompt_number": 245
    },
    {
     "cell_type": "code",
     "collapsed": false,
     "input": [
      "plt.plot(it, train_errors)\n",
      "plt.plot(it, test_errors)"
     ],
     "language": "python",
     "metadata": {},
     "outputs": [
      {
       "metadata": {},
       "output_type": "pyout",
       "prompt_number": 274,
       "text": [
        "[<matplotlib.lines.Line2D at 0x10e3d9250>]"
       ]
      },
      {
       "metadata": {},
       "output_type": "display_data",
       "png": "[encoded data removed]",
       "text": [
        "<matplotlib.figure.Figure at 0x1100651d0>"
       ]
      }
     ],
     "prompt_number": 274
    },
    {
     "cell_type": "code",
     "collapsed": false,
     "input": [
      "from sklearn.linear_model import LogisticRegression"
     ],
     "language": "python",
     "metadata": {},
     "outputs": [],
     "prompt_number": 195
    },
    {
     "cell_type": "code",
     "collapsed": false,
     "input": [
      "lr = LogisticRegression()"
     ],
     "language": "python",
     "metadata": {},
     "outputs": [],
     "prompt_number": 196
    },
    {
     "cell_type": "code",
     "collapsed": false,
     "input": [
      "lr.fit(io_train_X, io_train_Y)"
     ],
     "language": "python",
     "metadata": {},
     "outputs": [
      {
       "metadata": {},
       "output_type": "pyout",
       "prompt_number": 197,
       "text": [
        "LogisticRegression(C=1.0, class_weight=None, dual=False, fit_intercept=True,\n",
        "          intercept_scaling=1, penalty='l2', random_state=None, tol=0.0001)"
       ]
      }
     ],
     "prompt_number": 197
    },
    {
     "cell_type": "code",
     "collapsed": false,
     "input": [
      "lr"
     ],
     "language": "python",
     "metadata": {},
     "outputs": [
      {
       "metadata": {},
       "output_type": "pyout",
       "prompt_number": 198,
       "text": [
        "LogisticRegression(C=1.0, class_weight=None, dual=False, fit_intercept=True,\n",
        "          intercept_scaling=1, penalty='l2', random_state=None, tol=0.0001)"
       ]
      }
     ],
     "prompt_number": 198
    },
    {
     "cell_type": "code",
     "collapsed": false,
     "input": [
      "lr.coef_"
     ],
     "language": "python",
     "metadata": {},
     "outputs": [
      {
       "metadata": {},
       "output_type": "pyout",
       "prompt_number": 199,
       "text": [
        "array([[ 1.05507564,  0.        ,  1.52397517,  0.5839702 ,  0.88848142,\n",
        "         1.58919162,  0.84010961,  1.5286245 ,  0.51667106,  0.25239073,\n",
        "        -1.09057219, -0.41018231, -0.01898762, -0.22903524,  0.61549159,\n",
        "        -0.58006292, -0.33828579,  0.35050391, -0.27907002,  0.14225208,\n",
        "         0.47059129, -0.94951563,  0.71573283,  0.47421897,  0.298923  ,\n",
        "         0.74039429, -2.25435365, -0.40564423,  0.93050724,  0.45729608,\n",
        "         0.86404978,  0.05452735, -0.31928088, -1.31540061]])"
       ]
      }
     ],
     "prompt_number": 199
    },
    {
     "cell_type": "code",
     "collapsed": false,
     "input": [
      "lr.predict_proba(io_train_X)[:,0]"
     ],
     "language": "python",
     "metadata": {},
     "outputs": [
      {
       "metadata": {},
       "output_type": "pyout",
       "prompt_number": 234,
       "text": [
        "array([ 0.14432221,  0.63526666,  0.13060007,  0.09236628,  0.84542537,\n",
        "        0.08152497,  0.82667664,  0.07129883,  0.57896545,  0.06293158,\n",
        "        0.34000672,  0.15103032,  0.71376122,  0.83491891,  0.25733492,\n",
        "        0.97046273,  0.06251381,  0.9969618 ,  0.08494984,  0.05648262,\n",
        "        0.32178983,  0.9553955 ,  0.78796402,  0.07726788,  0.69908287,\n",
        "        0.10020487,  0.34829632,  0.11369601,  0.07124179,  0.4082973 ,\n",
        "        0.10421588,  0.16106216,  0.65428115,  0.06254231,  0.68251141,\n",
        "        0.08124769,  0.86929917,  0.49648682,  0.02816091,  0.07359085,\n",
        "        0.96657483,  0.95920627,  0.08003636,  0.08752528,  0.98424958,\n",
        "        0.60508409,  0.75373135,  0.07134926,  0.95778959,  0.04234339,\n",
        "        0.26785925,  0.08485664,  0.9987627 ,  0.13542853,  0.53341551,\n",
        "        0.65216048,  0.10988192,  0.04604234,  0.59959193,  0.13941593,\n",
        "        0.27239865,  0.26494949,  0.06332835,  0.14946791,  0.1684961 ,\n",
        "        0.62014256,  0.06808872,  0.97163388,  0.27503179,  0.38027262,\n",
        "        0.54400034,  0.065691  ,  0.64483389,  0.17283174,  0.97826899,\n",
        "        0.98706965,  0.21719788,  0.99307287,  0.12061974,  0.98136315,\n",
        "        0.06108624,  0.97821092,  0.02501784,  0.48783001,  0.97739341,\n",
        "        0.06800202,  0.44393158,  0.65172202,  0.07732076,  0.09506954,\n",
        "        0.07416156,  0.98194843,  0.0806904 ,  0.76176848,  0.36864544,\n",
        "        0.62421356,  0.9578432 ,  0.04183381,  0.98976303,  0.47710408,\n",
        "        0.99590084,  0.09679263,  0.43200825,  0.20577775,  0.94864613,\n",
        "        0.07535742,  0.29635943,  0.08675109,  0.81253397,  0.16798862,\n",
        "        0.19433233,  0.69907646,  0.69372526,  0.14977707,  0.95180976,\n",
        "        0.02755393,  0.31333253,  0.01693176,  0.07807022,  0.04340545,\n",
        "        0.41348619,  0.07300135,  0.7559875 ,  0.07525296,  0.91008568,\n",
        "        0.07926666,  0.99891526,  0.1488533 ,  0.03766397,  0.00578264,\n",
        "        0.99996504,  0.97883754,  0.48572387,  0.78896713,  0.08749478,\n",
        "        0.99972385,  0.15406798,  0.48080169,  0.22381569,  0.91458219,\n",
        "        0.13914801,  0.89233721,  0.12096131,  0.1275026 ,  0.10519764,\n",
        "        0.25310665,  0.99913734,  0.22220955,  0.98954008,  0.00687246,\n",
        "        0.02385208,  0.12743388,  0.98319673,  0.11064839,  0.98448868,\n",
        "        0.72780669,  0.11287633,  0.1107687 ,  0.04027594,  0.22269753,\n",
        "        0.07932863,  0.21495288,  0.51016416,  0.33443989,  0.26301652,\n",
        "        0.75339658,  0.90471339,  0.30700667,  0.97005079,  0.97826899,\n",
        "        0.93064282,  0.03881459,  0.03723943,  0.2840161 ,  0.38010033,\n",
        "        0.21807253,  0.15775085,  0.31280458,  0.08660192,  0.08381626,\n",
        "        0.08419452,  0.07503225,  0.14628447,  0.12448752,  0.3265596 ,\n",
        "        0.15463884,  0.25095456,  0.28960696,  0.08553751,  0.0628598 ,\n",
        "        0.0360603 ,  0.04008186,  0.02848115,  0.05749458,  0.16555884,\n",
        "        0.17187705,  0.10959308,  0.0683148 ,  0.41118486,  0.24272026,\n",
        "        0.09444108,  0.12642313,  0.14755934,  0.25347185,  0.03789913,\n",
        "        0.02369445,  0.02294351,  0.02634714,  0.08122665,  0.09067446,\n",
        "        0.10735374,  0.17463106,  0.19214774,  0.0272453 ,  0.03557895,\n",
        "        0.03955855,  0.02750296,  0.03368229,  0.04201616,  0.04457717,\n",
        "        0.22490554,  0.12709615,  0.10966583,  0.39582802,  0.03976808,\n",
        "        0.03698329,  0.08161065,  0.0706164 ,  0.0936908 ,  0.12184667,\n",
        "        0.13320257,  0.12947473,  0.08735596,  0.07733873,  0.08862993,\n",
        "        0.03886759,  0.04358951,  0.26575308,  0.06920118,  0.16525469,\n",
        "        0.0837903 ,  0.12384067,  0.15475439,  0.16089276,  0.108858  ,\n",
        "        0.131695  ])"
       ]
      }
     ],
     "prompt_number": 234
    },
    {
     "cell_type": "code",
     "collapsed": false,
     "input": [
      "accuracy_Y = np.ndarray(correctly_classified.shape, dtype=float)\n",
      "accuracy_Y[np.where(correctly_classified == True)] = 1\n",
      "accuracy_Y[np.where(correctly_classified != True)] = -1\n",
      "accuracy_Y"
     ],
     "language": "python",
     "metadata": {},
     "outputs": [
      {
       "metadata": {},
       "output_type": "pyout",
       "prompt_number": 209,
       "text": [
        "array([ 1.,  1.,  1.,  1.,  1.,  1.,  1.,  1.,  1.,  1., -1.,  1.,  1.,\n",
        "        1.,  1.,  1.,  1.,  1.,  1.,  1., -1.,  1.,  1.,  1.,  1.,  1.,\n",
        "       -1.,  1.,  1., -1.,  1.,  1.,  1.,  1.,  1.,  1.,  1.,  1.,  1.,\n",
        "        1.,  1.,  1.,  1.,  1.,  1.,  1.,  1.,  1.,  1.,  1., -1.,  1.,\n",
        "        1.,  1.,  1.,  1.,  1.,  1.,  1.,  1., -1.,  1., -1.,  1., -1.,\n",
        "        1.,  1.,  1.,  1.,  1.,  1.,  1.,  1.,  1.,  1.,  1.,  1.,  1.,\n",
        "        1.,  1.,  1.,  1.,  1.,  1.,  1.,  1.,  1.,  1.,  1., -1.,  1.,\n",
        "        1.,  1.,  1.,  1.,  1.,  1.,  1.,  1.,  1.,  1.,  1., -1., -1.,\n",
        "        1.,  1., -1.,  1.,  1.,  1.,  1.,  1.,  1.,  1.,  1.,  1., -1.,\n",
        "        1.,  1.,  1., -1.,  1.,  1.,  1.,  1.,  1.,  1.,  1.,  1.,  1.,\n",
        "        1.,  1.,  1.,  1.,  1.,  1.,  1., -1.,  1.,  1.,  1.,  1.,  1.,\n",
        "        1.,  1.,  1.,  1.,  1.,  1.,  1.,  1.,  1.,  1.,  1.,  1.,  1.,\n",
        "        1.,  1.,  1., -1.,  1.,  1.,  1., -1.,  1.,  1.,  1., -1.,  1.,\n",
        "        1.,  1.,  1.,  1.,  1.,  1.,  1.,  1.,  1.,  1.,  1.,  1.,  1.,\n",
        "        1.,  1.,  1.,  1.,  1.,  1.,  1.,  1.,  1.,  1.,  1.,  1.,  1.,\n",
        "        1.,  1.,  1.,  1.,  1.,  1.,  1.,  1.,  1.,  1.,  1.,  1.,  1.,\n",
        "        1.,  1.,  1.,  1.,  1.,  1.,  1.,  1.,  1.,  1.,  1.,  1.,  1.,\n",
        "        1.,  1.,  1.,  1.,  1.,  1.,  1.,  1.,  1.,  1.,  1.,  1.,  1.,\n",
        "        1.,  1.,  1.,  1.,  1.,  1.,  1.,  1.,  1.,  1.,  1.,  1.])"
       ]
      }
     ],
     "prompt_number": 209
    },
    {
     "cell_type": "code",
     "collapsed": false,
     "input": [],
     "language": "python",
     "metadata": {},
     "outputs": []
    }
   ],
   "metadata": {}
  }
 ]
}